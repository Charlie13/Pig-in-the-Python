{
 "metadata": {
  "name": ""
 },
 "nbformat": 3,
 "nbformat_minor": 0,
 "worksheets": [
  {
   "cells": [
    {
     "cell_type": "heading",
     "level": 2,
     "metadata": {},
     "source": [
      "Examples using CSV files"
     ]
    },
    {
     "cell_type": "markdown",
     "metadata": {},
     "source": [
      "Let's start by using the built-in `csv` module."
     ]
    },
    {
     "cell_type": "code",
     "collapsed": false,
     "input": [
      "import csv # using Python module"
     ],
     "language": "python",
     "metadata": {},
     "outputs": [],
     "prompt_number": 60
    },
    {
     "cell_type": "markdown",
     "metadata": {},
     "source": [
      "Now, we want to open an example file, and read the contents:"
     ]
    },
    {
     "cell_type": "code",
     "collapsed": false,
     "input": [
      "f = open('example_1.csv','rb') # use binary mode if on MS windows\n",
      "d = [i for i in csv.reader(f) ] # use list comprehension to read from file\n",
      "f.close() # close file\n",
      "print d"
     ],
     "language": "python",
     "metadata": {},
     "outputs": [
      {
       "output_type": "stream",
       "stream": "stdout",
       "text": [
        "[['Name ', 'DOB', 'Years', 'Degree'], ['Alice Jones', '12/1/1980', '3', 'MS'], ['Bob Smith', '1/1/1969', '4', 'BS'], ['John Book', '5/3/1980', '11', 'BA'], ['Billy Blanks', '6/9/2000', '8', 'AA']]\n"
       ]
      }
     ],
     "prompt_number": 61
    },
    {
     "cell_type": "heading",
     "level": 3,
     "metadata": {},
     "source": [
      "Adding new fields as columns"
     ]
    },
    {
     "cell_type": "markdown",
     "metadata": {},
     "source": [
      "Now, let's suppose we want to create columns for `last name`  and `first name` instead of having just one name field. We read the data as a Python list so every element in the list is a row in the original CSV file. The first element in the list is the header, so we had the additional fields there:"
     ]
    },
    {
     "cell_type": "code",
     "collapsed": false,
     "input": [
      "d[0].append('Last Name')\n",
      "d[0].append('First Name')\n",
      "print d[0]"
     ],
     "language": "python",
     "metadata": {},
     "outputs": [
      {
       "output_type": "stream",
       "stream": "stdout",
       "text": [
        "['Name ', 'DOB', 'Years', 'Degree', 'Last Name', 'First Name']\n"
       ]
      }
     ],
     "prompt_number": 62
    },
    {
     "cell_type": "markdown",
     "metadata": {},
     "source": [
      "Now, we want to split the original `Name` field into first and last names and put these at the ends of their respective rows."
     ]
    },
    {
     "cell_type": "code",
     "collapsed": false,
     "input": [
      "for i in d[1:]: # start at 1st, not 0th column\n",
      "    first,last= i[0].split() # split on white-space\n",
      "    i.append(last)\n",
      "    i.append(first)\n",
      "print d"
     ],
     "language": "python",
     "metadata": {},
     "outputs": [
      {
       "output_type": "stream",
       "stream": "stdout",
       "text": [
        "[['Name ', 'DOB', 'Years', 'Degree', 'Last Name', 'First Name'], ['Alice Jones', '12/1/1980', '3', 'MS', 'Jones', 'Alice'], ['Bob Smith', '1/1/1969', '4', 'BS', 'Smith', 'Bob'], ['John Book', '5/3/1980', '11', 'BA', 'Book', 'John'], ['Billy Blanks', '6/9/2000', '8', 'AA', 'Blanks', 'Billy']]\n"
       ]
      }
     ],
     "prompt_number": 63
    },
    {
     "cell_type": "code",
     "collapsed": false,
     "input": [
      "#%qtconsole"
     ],
     "language": "python",
     "metadata": {},
     "outputs": [],
     "prompt_number": 64
    },
    {
     "cell_type": "markdown",
     "metadata": {},
     "source": [
      "Now, we want to write out our new data in CSV format"
     ]
    },
    {
     "cell_type": "code",
     "collapsed": false,
     "input": [
      "f = open('example_1_out.csv','wb') # write mode binary\n",
      "fw = csv.writer(f) # create csv writer\n",
      "fw.writerows(d) \n",
      "f.close() # close file "
     ],
     "language": "python",
     "metadata": {},
     "outputs": [],
     "prompt_number": 65
    },
    {
     "cell_type": "markdown",
     "metadata": {},
     "source": [
      "Now, opening the file `example_1_out.csv` using excel (or another reader) should show the new column. "
     ]
    },
    {
     "cell_type": "code",
     "collapsed": false,
     "input": [],
     "language": "python",
     "metadata": {},
     "outputs": []
    }
   ],
   "metadata": {}
  }
 ]
}