{
 "metadata": {
  "name": "Sampling_Monte_Carlo"
 },
 "nbformat": 3,
 "nbformat_minor": 0,
 "worksheets": [
  {
   "cells": [
    {
     "cell_type": "code",
     "collapsed": false,
     "input": [
      "from __future__ import division"
     ],
     "language": "python",
     "metadata": {},
     "outputs": [
      {
       "output_type": "stream",
       "stream": "stdout",
       "text": [
        "\n",
        "Welcome to pylab, a matplotlib-based Python environment [backend: module://IPython.zmq.pylab.backend_inline].\n",
        "For more information, type 'help(pylab)'.\n"
       ]
      }
     ],
     "prompt_number": 1
    },
    {
     "cell_type": "code",
     "collapsed": false,
     "input": [
      "%qtconsole"
     ],
     "language": "python",
     "metadata": {},
     "outputs": [],
     "prompt_number": 1
    },
    {
     "cell_type": "heading",
     "level": 2,
     "metadata": {},
     "source": [
      "Inverse CDF Method for Continuous Variables"
     ]
    },
    {
     "cell_type": "markdown",
     "metadata": {},
     "source": [
      "We want to generate random samples for a CDF $F$ that is invertible.Note that for a uniform random variable $v \\sim \\mathcal{U}[0,1]$, we have,\n",
      "\n",
      "$$ \\mathbb{P}(x < F^{-1}(v) < x+\\Delta x) =\\mathbb{P}(F(x) < v < F(x+\\Delta x)) =  F(x+\\Delta x) - F(x) = \\int_x^{x+\\Delta x} f(u) du \\approx  f(x) \\Delta x$$\n",
      "\n",
      "This means that $ F^{-1}(v) \\sim f $, which is what we were after. Let's try this with the exponential distribution,\n",
      "\n",
      "$$ f_{\\alpha}(x) = \\alpha\\exp(-\\alpha x) $$\n",
      "\n",
      "with the following CDF,\n",
      "\n",
      "$$ F(x) = 1-\\exp(-\\alpha x )$$\n",
      "\n",
      "and corresponding inverse,\n",
      "\n",
      "$$ F^{-1}(u)  = \\frac{1}{\\alpha}\\ln \\frac{1}{(1-u)}$$ "
     ]
    },
    {
     "cell_type": "code",
     "collapsed": false,
     "input": [
      "import scipy.stats\n",
      "\n",
      "alpha = 1.\n",
      "nsamp = 1000\n",
      "\n",
      "u=scipy.stats.uniform(0,1)\n",
      "x=scipy.stats.expon(alpha)\n",
      "\n",
      "Finv=lambda u: 1/alpha*log(1/(1-u))\n",
      "#Finv=lambda u: 1+1/alpha*log(1/(1-u)) # shift over to correct\n",
      "    \n",
      "fig,ax = subplots()\n",
      "\n",
      "xhat = array(map(Finv,u.rvs(nsamp)))\n",
      "# exponential distrib samples by inverse method\n",
      "ax.hist(xhat,normed=1,bins=30,alpha=0.3,label='inverse method') \n",
      "# exponential distrib samples by scipy.stats\n",
      "xrvs = x.rvs(nsamp)\n",
      "xe = linspace(0,xrvs.max(),100)\n",
      "ax.hist(xrvs,bins=30,normed=1,alpha=0.3,label='scipy.stats')\n",
      "# exponential theoretical density function\n",
      "ax.plot(xe,x.pdf(xe),'r-',label='theoretical')\n",
      "ax.set_xticks(range(int(xrvs.max())))\n",
      "ax.axis(ymax=1.05)\n",
      "ax.set_title('Inverse CDF for Exponential Distribution')\n",
      "ax.set_ylabel('pdf(x)',fontsize=18)\n",
      "ax.set_xlabel('x',fontsize=18)\n",
      "ax.legend();"
     ],
     "language": "python",
     "metadata": {},
     "outputs": [
      {
       "output_type": "display_data",
       "png": "[encoded data removed]"
      }
     ],
     "prompt_number": 126
    },
    {
     "cell_type": "markdown",
     "metadata": {},
     "source": [
      "The reason the histogram of the inverse method is shifted over is because we lose knowledge of a constant shift in $v$ because $1-v$ is also uniformly distributed between $\\mathcal{U}[0,1]$. This means we have to change the inverse function to the following:\n",
      "\n",
      "$$ F^{-1}(u)  = 1+\\frac{1}{\\alpha}\\ln \\frac{1}{(1-u)}$$ "
     ]
    },
    {
     "cell_type": "heading",
     "level": 2,
     "metadata": {},
     "source": [
      "Inverse CDF Method for Discrete Variables"
     ]
    },
    {
     "cell_type": "heading",
     "level": 2,
     "metadata": {},
     "source": [
      "Rejection Method"
     ]
    },
    {
     "cell_type": "heading",
     "level": 3,
     "metadata": {},
     "source": [
      "Uniformly Sampling over a Disk"
     ]
    },
    {
     "cell_type": "heading",
     "level": 2,
     "metadata": {},
     "source": [
      "Composition method"
     ]
    },
    {
     "cell_type": "heading",
     "level": 3,
     "metadata": {},
     "source": [
      "Rectangle-Wedge-Tail Decomposition Method"
     ]
    },
    {
     "cell_type": "heading",
     "level": 3,
     "metadata": {},
     "source": [
      "Composition-Rejection Method"
     ]
    },
    {
     "cell_type": "heading",
     "level": 3,
     "metadata": {},
     "source": [
      "Ratio of Uniforms Method\n"
     ]
    },
    {
     "cell_type": "code",
     "collapsed": false,
     "input": [],
     "language": "python",
     "metadata": {},
     "outputs": []
    }
   ],
   "metadata": {}
  }
 ]
}