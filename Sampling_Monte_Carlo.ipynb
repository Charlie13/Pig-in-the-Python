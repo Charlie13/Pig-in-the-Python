{
 "metadata": {
  "name": "Sampling_Monte_Carlo"
 },
 "nbformat": 3,
 "nbformat_minor": 0,
 "worksheets": [
  {
   "cells": [
    {
     "cell_type": "code",
     "collapsed": false,
     "input": [
      "from __future__ import division"
     ],
     "language": "python",
     "metadata": {},
     "outputs": [
      {
       "output_type": "stream",
       "stream": "stdout",
       "text": [
        "\n",
        "Welcome to pylab, a matplotlib-based Python environment [backend: module://IPython.zmq.pylab.backend_inline].\n",
        "For more information, type 'help(pylab)'.\n"
       ]
      }
     ],
     "prompt_number": 1
    },
    {
     "cell_type": "code",
     "collapsed": false,
     "input": [
      "%qtconsole"
     ],
     "language": "python",
     "metadata": {},
     "outputs": [],
     "prompt_number": 1
    },
    {
     "cell_type": "heading",
     "level": 2,
     "metadata": {},
     "source": [
      "Inverse CDF Method for Continuous Variables"
     ]
    },
    {
     "cell_type": "markdown",
     "metadata": {},
     "source": [
      "We want to generate random samples for a CDF $F$ that is invertible.Note that for a uniform random variable $v \\sim \\mathcal{U}[0,1]$, we have,\n",
      "\n",
      "$$ \\mathbb{P}(x < F^{-1}(v) < x+\\Delta x) =\\mathbb{P}(F(x) < v < F(x+\\Delta x)) =  F(x+\\Delta x) - F(x) = \\int_x^{x+\\Delta x} f(u) du \\approx  f(x) \\Delta x$$\n",
      "\n",
      "This means that $ F^{-1}(v) \\sim f $, which is what we were after. Let's try this with the exponential distribution,\n",
      "\n",
      "$$ f_{\\alpha}(x) = \\alpha\\exp(-\\alpha x) $$\n",
      "\n",
      "with the following CDF,\n",
      "\n",
      "$$ F(x) = 1-\\exp(-\\alpha x )$$\n",
      "\n",
      "and corresponding inverse,\n",
      "\n",
      "$$ F^{-1}(u)  = \\frac{1}{\\alpha}\\ln \\frac{1}{(1-u)}$$ "
     ]
    },
    {
     "cell_type": "code",
     "collapsed": false,
     "input": [
      "import scipy.stats\n",
      "\n",
      "alpha = 1.\n",
      "\n",
      "u=scipy.stats.uniform(0,1)\n",
      "x=scipy.stats.expon(alpha)\n",
      "\n",
      "Finv=lambda u: 1/alpha*log(1/(1-u))\n",
      "    \n",
      "fig,ax = subplots()\n",
      "\n",
      "xhat = array(map(Finv,u.rvs(1000)))\n",
      "xe = linspace(0,5,100)\n",
      "# exponential distrib samples by inverse\n",
      "ax.hist(xhat,normed=1,bins=30,alpha=0.3,label='inverse method') \n",
      "ax.hist(x.rvs(1000),bins=30,normed=1,alpha=0.3,label='scipy.stats')\n",
      "ax.plot(xe,x.pdf(xe),'r-',label='theoretical')\n",
      "ax.set_xticks(range(10))\n",
      "ax.axis(ymax=1.05)\n",
      "ax.legend()"
     ],
     "language": "python",
     "metadata": {},
     "outputs": [
      {
       "output_type": "pyout",
       "prompt_number": 100,
       "text": [
        "<matplotlib.legend.Legend at 0xfe12710>"
       ]
      },
      {
       "output_type": "display_data",
       "png": "[encoded data removed]"
      }
     ],
     "prompt_number": 100
    },
    {
     "cell_type": "heading",
     "level": 2,
     "metadata": {},
     "source": [
      "Inverse CDF Method for Discrete Variables"
     ]
    },
    {
     "cell_type": "heading",
     "level": 2,
     "metadata": {},
     "source": [
      "Rejection Method"
     ]
    },
    {
     "cell_type": "heading",
     "level": 3,
     "metadata": {},
     "source": [
      "Uniformly Sampling over a Disk"
     ]
    },
    {
     "cell_type": "heading",
     "level": 2,
     "metadata": {},
     "source": [
      "Composition method"
     ]
    },
    {
     "cell_type": "heading",
     "level": 3,
     "metadata": {},
     "source": [
      "Rectangle-Wedge-Tail Decomposition Method"
     ]
    },
    {
     "cell_type": "heading",
     "level": 3,
     "metadata": {},
     "source": [
      "Composition-Rejection Method"
     ]
    },
    {
     "cell_type": "heading",
     "level": 3,
     "metadata": {},
     "source": [
      "Ratio of Uniforms Method\n"
     ]
    },
    {
     "cell_type": "code",
     "collapsed": false,
     "input": [],
     "language": "python",
     "metadata": {},
     "outputs": []
    }
   ],
   "metadata": {}
  }
 ]
}